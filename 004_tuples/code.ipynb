{
 "cells": [
  {
   "cell_type": "code",
   "execution_count": 74,
   "metadata": {},
   "outputs": [
    {
     "name": "stdout",
     "output_type": "stream",
     "text": [
      "()\n",
      "<class 'tuple'>\n"
     ]
    }
   ],
   "source": [
    "# Creating empty tuple\n",
    "empty_tuple = ()\n",
    "print(empty_tuple)\n",
    "print(type(empty_tuple))"
   ]
  },
  {
   "cell_type": "code",
   "execution_count": null,
   "metadata": {},
   "outputs": [
    {
     "name": "stdout",
     "output_type": "stream",
     "text": [
      "(1,)\n",
      "1\n"
     ]
    }
   ],
   "source": [
    "# Creating a tuple with a single element\n",
    "single_element_tuple = (1, )\n",
    "single_value = (1)\n",
    "print(single_element_tuple)\n",
    "print(single_value)"
   ]
  },
  {
   "cell_type": "code",
   "execution_count": null,
   "metadata": {},
   "outputs": [
    {
     "name": "stdout",
     "output_type": "stream",
     "text": [
      "(1, (2, 3), 4, 'five', 'six')\n"
     ]
    }
   ],
   "source": [
    "# Creating complex tulpe\n",
    "my_tuple = (1, (2, 3), 4, 'five', 'six')\n",
    "print(my_tuple)"
   ]
  },
  {
   "cell_type": "code",
   "execution_count": null,
   "metadata": {},
   "outputs": [
    {
     "name": "stdout",
     "output_type": "stream",
     "text": [
      "10\n",
      "20\n",
      "50\n",
      "(10, 20, 30, 40)\n",
      "(10, 30)\n"
     ]
    }
   ],
   "source": [
    "# Accessing tuple elements\n",
    "example_tuple = (10, 20, 30, 40, 50)\n",
    "\n",
    "print(example_tuple[0])   \n",
    "print(example_tuple[1])   \n",
    "print(example_tuple[-1])\n",
    "print(example_tuple[0:4])\n",
    "print(example_tuple[0:4:2])"
   ]
  },
  {
   "cell_type": "code",
   "execution_count": null,
   "metadata": {},
   "outputs": [],
   "source": [
    "# Tuple immutability\n",
    "example_tuple = (10, 20, 30, 40, 50)\n",
    "#example_tuple[0] = 100  # This will raise an error"
   ]
  },
  {
   "cell_type": "code",
   "execution_count": null,
   "metadata": {},
   "outputs": [
    {
     "name": "stdout",
     "output_type": "stream",
     "text": [
      "([100, 20], [30, 40])\n"
     ]
    }
   ],
   "source": [
    "# Mutability of tuple elements\n",
    "example_tuple = ([10, 20], [30, 40])\n",
    "example_tuple[0][0] = 100\n",
    "print(example_tuple)"
   ]
  },
  {
   "cell_type": "code",
   "execution_count": null,
   "metadata": {},
   "outputs": [
    {
     "name": "stdout",
     "output_type": "stream",
     "text": [
      "(1, 2, 3, 4)\n",
      "(1, 2, 1, 2, 1, 2)\n",
      "True\n"
     ]
    }
   ],
   "source": [
    "# Tuples: concatenation, duplication, keyword 'in'\n",
    "tuple1 = (1, 2)\n",
    "tuple2 = (3, 4)\n",
    "\n",
    "print(tuple1 + tuple2)  \n",
    "print(tuple1 * 3)  \n",
    "print(1 in tuple1)"
   ]
  },
  {
   "cell_type": "code",
   "execution_count": null,
   "metadata": {},
   "outputs": [
    {
     "name": "stdout",
     "output_type": "stream",
     "text": [
      "True\n",
      "True\n",
      "False\n",
      "False\n",
      "False\n",
      "True\n"
     ]
    }
   ],
   "source": [
    "# Comparing tuples\n",
    "tuple1 = (1, 2, 3)\n",
    "tuple2 = (1, 2, 4)\n",
    "\n",
    "print(tuple1 < tuple2)\n",
    "print(tuple1 <= tuple2)\n",
    "print(tuple1 > tuple2)\n",
    "print(tuple1 >= tuple2)\n",
    "print(tuple1 == tuple2)\n",
    "print(tuple1 != tuple2)"
   ]
  },
  {
   "cell_type": "code",
   "execution_count": null,
   "metadata": {},
   "outputs": [
    {
     "name": "stdout",
     "output_type": "stream",
     "text": [
      "()\n",
      "(10, 20, 30)\n",
      "('a', 'b', 'c')\n"
     ]
    }
   ],
   "source": [
    "# tuple()\n",
    "empty_tulpe = tuple()\n",
    "print(empty_tulpe)\n",
    "\n",
    "list_example = [10, 20, 30]\n",
    "tuple_from_list = tuple(list_example)\n",
    "print(tuple_from_list)\n",
    "\n",
    "tuple_from_string = tuple(\"abc\")\n",
    "print(tuple_from_string)"
   ]
  },
  {
   "cell_type": "code",
   "execution_count": null,
   "metadata": {},
   "outputs": [
    {
     "name": "stdout",
     "output_type": "stream",
     "text": [
      "10 20 30\n"
     ]
    }
   ],
   "source": [
    "# Unpacking\n",
    "example_tuple = (10, 20, 30)\n",
    "a, b, c = example_tuple\n",
    "print(a, b, c)"
   ]
  },
  {
   "cell_type": "code",
   "execution_count": null,
   "metadata": {},
   "outputs": [
    {
     "name": "stdout",
     "output_type": "stream",
     "text": [
      "20\n"
     ]
    }
   ],
   "source": [
    "# Omitting unnecessary values\n",
    "_, variable, _ = example_tuple\n",
    "print(variable)"
   ]
  },
  {
   "cell_type": "code",
   "execution_count": null,
   "metadata": {},
   "outputs": [
    {
     "name": "stdout",
     "output_type": "stream",
     "text": [
      "(10, 20, 30)\n"
     ]
    }
   ],
   "source": [
    "# Packing data into a tuple\n",
    "packed_tuple = a, b, c\n",
    "print(packed_tuple)"
   ]
  },
  {
   "cell_type": "code",
   "execution_count": null,
   "metadata": {},
   "outputs": [
    {
     "name": "stdout",
     "output_type": "stream",
     "text": [
      "6\n"
     ]
    }
   ],
   "source": [
    "# len()\n",
    "example_tuple = (1, 2, 3, 4, 5, 6)\n",
    "print(len(example_tuple))  "
   ]
  },
  {
   "cell_type": "code",
   "execution_count": null,
   "metadata": {},
   "outputs": [
    {
     "name": "stdout",
     "output_type": "stream",
     "text": [
      "6\n",
      "6\n"
     ]
    }
   ],
   "source": [
    "# min(), max()\n",
    "print(len(example_tuple))  \n",
    "print(max(example_tuple))  "
   ]
  },
  {
   "cell_type": "code",
   "execution_count": null,
   "metadata": {},
   "outputs": [
    {
     "name": "stdout",
     "output_type": "stream",
     "text": [
      "21\n"
     ]
    }
   ],
   "source": [
    "# sum()\n",
    "print(sum(example_tuple))  "
   ]
  },
  {
   "cell_type": "code",
   "execution_count": null,
   "metadata": {},
   "outputs": [
    {
     "name": "stdout",
     "output_type": "stream",
     "text": [
      "['a', 'b', 'c', 'd']\n",
      "['d', 'c', 'b', 'a']\n"
     ]
    }
   ],
   "source": [
    "# sorted()\n",
    "print(sorted((\"c\", \"a\", \"d\", \"b\")))  \n",
    "print(sorted((\"c\", \"a\", \"d\", \"b\"), reverse=True))  "
   ]
  },
  {
   "cell_type": "code",
   "execution_count": null,
   "metadata": {},
   "outputs": [
    {
     "name": "stdout",
     "output_type": "stream",
     "text": [
      "('b', 'd', 'a', 'c')\n"
     ]
    }
   ],
   "source": [
    "# reversed()\n",
    "print(tuple(reversed((\"c\", \"a\", \"d\", \"b\"))))"
   ]
  },
  {
   "cell_type": "code",
   "execution_count": null,
   "metadata": {},
   "outputs": [
    {
     "name": "stdout",
     "output_type": "stream",
     "text": [
      "False True\n",
      "False True\n"
     ]
    }
   ],
   "source": [
    "# any(), all()\n",
    "tuple1 = (0, 0, 0)\n",
    "tuple2 = (0, 1, 2)\n",
    "tuple3 = (1, 2, 3)\n",
    "\n",
    "print(any(tuple1), any(tuple2))  \n",
    "print(all(tuple2), all(tuple3))"
   ]
  },
  {
   "cell_type": "code",
   "execution_count": null,
   "metadata": {},
   "outputs": [
    {
     "name": "stdout",
     "output_type": "stream",
     "text": [
      "[(10, 'a'), (20, 'b'), (30, 'c')]\n"
     ]
    }
   ],
   "source": [
    "# zip()\n",
    "list_example = [10, 20, 30]\n",
    "tuple_example = ('a', 'b', 'c', 'd')\n",
    "\n",
    "zipped = zip(list_example, tuple_example)\n",
    "zipped_list = list(zipped)\n",
    "\n",
    "print(zipped_list)"
   ]
  },
  {
   "cell_type": "code",
   "execution_count": null,
   "metadata": {},
   "outputs": [
    {
     "name": "stdout",
     "output_type": "stream",
     "text": [
      "3\n",
      "3\n",
      "3\n"
     ]
    }
   ],
   "source": [
    "# Some methods\n",
    "tuple_example = (1, 2, 2, 3, 4, 2)\n",
    "print(tuple_example.count(2))  \n",
    "print(tuple_example.index(3))  \n",
    "print(tuple_example.index(3, 3, 5))  "
   ]
  },
  {
   "cell_type": "code",
   "execution_count": null,
   "metadata": {},
   "outputs": [],
   "source": []
  }
 ],
 "metadata": {
  "colab": {
   "authorship_tag": "ABX9TyNrZi2CV3Td6zGVPEdi/nDV",
   "provenance": []
  },
  "kernelspec": {
   "display_name": "Python 3",
   "name": "python3"
  },
  "language_info": {
   "codemirror_mode": {
    "name": "ipython",
    "version": 3
   },
   "file_extension": ".py",
   "mimetype": "text/x-python",
   "name": "python",
   "nbconvert_exporter": "python",
   "pygments_lexer": "ipython3",
   "version": "3.12.4"
  }
 },
 "nbformat": 4,
 "nbformat_minor": 0
}
