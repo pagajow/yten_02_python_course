{
 "cells": [
  {
   "cell_type": "markdown",
   "metadata": {
    "id": "6kF9_Psv85n1"
   },
   "source": [
    "# Creating a list"
   ]
  },
  {
   "cell_type": "code",
   "execution_count": 74,
   "metadata": {
    "colab": {
     "base_uri": "https://localhost:8080/"
    },
    "executionInfo": {
     "elapsed": 363,
     "status": "ok",
     "timestamp": 1722599223732,
     "user": {
      "displayName": "Patryk Gajowniczek",
      "userId": "12126099367175803778"
     },
     "user_tz": -120
    },
    "id": "7BvpD2g4uvv7",
    "outputId": "a3da6d33-d817-4edc-c4f9-d9623e75d4a6"
   },
   "outputs": [
    {
     "name": "stdout",
     "output_type": "stream",
     "text": [
      "[]\n"
     ]
    }
   ],
   "source": [
    "my_empty_list = []\n",
    "print(my_empty_list)"
   ]
  },
  {
   "cell_type": "code",
   "execution_count": 75,
   "metadata": {
    "colab": {
     "base_uri": "https://localhost:8080/"
    },
    "executionInfo": {
     "elapsed": 673,
     "status": "ok",
     "timestamp": 1722601482915,
     "user": {
      "displayName": "Patryk Gajowniczek",
      "userId": "12126099367175803778"
     },
     "user_tz": -120
    },
    "id": "GPZxiD8Ou-wd",
    "outputId": "6c7610f4-7a5b-4cf3-fd89-ad03b676b0c1"
   },
   "outputs": [
    {
     "name": "stdout",
     "output_type": "stream",
     "text": [
      "['a', 'b', 'c']\n"
     ]
    }
   ],
   "source": [
    "my_list = ['a', 'b', 'c']\n",
    "print(my_list)"
   ]
  },
  {
   "cell_type": "code",
   "execution_count": 76,
   "metadata": {
    "colab": {
     "base_uri": "https://localhost:8080/"
    },
    "executionInfo": {
     "elapsed": 588,
     "status": "ok",
     "timestamp": 1722599326960,
     "user": {
      "displayName": "Patryk Gajowniczek",
      "userId": "12126099367175803778"
     },
     "user_tz": -120
    },
    "id": "fjY3Mt6a6xSY",
    "outputId": "8676cc12-d564-46b4-9fb1-77fc26462f05"
   },
   "outputs": [
    {
     "name": "stdout",
     "output_type": "stream",
     "text": [
      "[1, [2, 3], [4, 5, 6]]\n"
     ]
    }
   ],
   "source": [
    "my_nested_list = [1, [2, 3], [4, 5, 6]]\n",
    "print(my_nested_list)"
   ]
  },
  {
   "cell_type": "code",
   "execution_count": 77,
   "metadata": {
    "colab": {
     "base_uri": "https://localhost:8080/"
    },
    "executionInfo": {
     "elapsed": 595,
     "status": "ok",
     "timestamp": 1722601092548,
     "user": {
      "displayName": "Patryk Gajowniczek",
      "userId": "12126099367175803778"
     },
     "user_tz": -120
    },
    "id": "mzIGNSIWBdrI",
    "outputId": "a4a2060a-fd96-4aa5-a152-51625671d5a3"
   },
   "outputs": [
    {
     "name": "stdout",
     "output_type": "stream",
     "text": [
      "[1, 'two', 3.0, [4, 5], True]\n"
     ]
    }
   ],
   "source": [
    "my_mixed_list = [1, \"two\", 3.0, [4, 5], True]\n",
    "print(my_mixed_list)"
   ]
  },
  {
   "cell_type": "markdown",
   "metadata": {
    "id": "jLa2-sgB882F"
   },
   "source": [
    "# Indexing and slicing"
   ]
  },
  {
   "cell_type": "code",
   "execution_count": 78,
   "metadata": {
    "colab": {
     "base_uri": "https://localhost:8080/"
    },
    "executionInfo": {
     "elapsed": 540,
     "status": "ok",
     "timestamp": 1722599502061,
     "user": {
      "displayName": "Patryk Gajowniczek",
      "userId": "12126099367175803778"
     },
     "user_tz": -120
    },
    "id": "eRD98zWg68De",
    "outputId": "122f89ff-b140-40c7-9234-df0c47040f14"
   },
   "outputs": [
    {
     "data": {
      "text/plain": [
       "('a', 'f')"
      ]
     },
     "execution_count": 78,
     "metadata": {},
     "output_type": "execute_result"
    }
   ],
   "source": [
    "lista = [\"a\", \"b\", \"c\", \"d\", \"e\", \"f\"]\n",
    "lista[0], lista[-1]"
   ]
  },
  {
   "cell_type": "code",
   "execution_count": 79,
   "metadata": {
    "colab": {
     "base_uri": "https://localhost:8080/"
    },
    "executionInfo": {
     "elapsed": 647,
     "status": "ok",
     "timestamp": 1722599584301,
     "user": {
      "displayName": "Patryk Gajowniczek",
      "userId": "12126099367175803778"
     },
     "user_tz": -120
    },
    "id": "ISWAKf8F76Ym",
    "outputId": "867f1a9c-7410-4c8c-9673-e3fda4c97ea0"
   },
   "outputs": [
    {
     "data": {
      "text/plain": [
       "['a', 'b', 'c', 'd', 'e', 'f']"
      ]
     },
     "execution_count": 79,
     "metadata": {},
     "output_type": "execute_result"
    }
   ],
   "source": [
    "lista[:]"
   ]
  },
  {
   "cell_type": "code",
   "execution_count": 80,
   "metadata": {
    "colab": {
     "base_uri": "https://localhost:8080/"
    },
    "executionInfo": {
     "elapsed": 357,
     "status": "ok",
     "timestamp": 1722599530080,
     "user": {
      "displayName": "Patryk Gajowniczek",
      "userId": "12126099367175803778"
     },
     "user_tz": -120
    },
    "id": "zsZm0RRY7El0",
    "outputId": "c40303e8-91aa-440e-847d-237bf5628517"
   },
   "outputs": [
    {
     "data": {
      "text/plain": [
       "['a', 'b', 'c']"
      ]
     },
     "execution_count": 80,
     "metadata": {},
     "output_type": "execute_result"
    }
   ],
   "source": [
    "lista[:3]"
   ]
  },
  {
   "cell_type": "code",
   "execution_count": 81,
   "metadata": {
    "colab": {
     "base_uri": "https://localhost:8080/"
    },
    "executionInfo": {
     "elapsed": 1,
     "status": "ok",
     "timestamp": 1722599531179,
     "user": {
      "displayName": "Patryk Gajowniczek",
      "userId": "12126099367175803778"
     },
     "user_tz": -120
    },
    "id": "o1woj9ya7Qq_",
    "outputId": "4b983bf4-6525-410b-e77d-45ea9ccc7e1a"
   },
   "outputs": [
    {
     "data": {
      "text/plain": [
       "['a', 'b', 'c', 'd', 'e']"
      ]
     },
     "execution_count": 81,
     "metadata": {},
     "output_type": "execute_result"
    }
   ],
   "source": [
    "lista[:-1]"
   ]
  },
  {
   "cell_type": "code",
   "execution_count": 82,
   "metadata": {
    "colab": {
     "base_uri": "https://localhost:8080/"
    },
    "executionInfo": {
     "elapsed": 374,
     "status": "ok",
     "timestamp": 1722599600423,
     "user": {
      "displayName": "Patryk Gajowniczek",
      "userId": "12126099367175803778"
     },
     "user_tz": -120
    },
    "id": "LBOelbBZ7UQ-",
    "outputId": "c42f9ef4-ee27-4f85-c1bc-b523a830af9d"
   },
   "outputs": [
    {
     "data": {
      "text/plain": [
       "['a', 'd']"
      ]
     },
     "execution_count": 82,
     "metadata": {},
     "output_type": "execute_result"
    }
   ],
   "source": [
    "lista[::3]"
   ]
  },
  {
   "cell_type": "code",
   "execution_count": 83,
   "metadata": {
    "colab": {
     "base_uri": "https://localhost:8080/"
    },
    "executionInfo": {
     "elapsed": 367,
     "status": "ok",
     "timestamp": 1722599612156,
     "user": {
      "displayName": "Patryk Gajowniczek",
      "userId": "12126099367175803778"
     },
     "user_tz": -120
    },
    "id": "tt27XXHJ73M2",
    "outputId": "00266824-4b3c-45dc-f707-f830de77486a"
   },
   "outputs": [
    {
     "data": {
      "text/plain": [
       "['f', 'd', 'b']"
      ]
     },
     "execution_count": 83,
     "metadata": {},
     "output_type": "execute_result"
    }
   ],
   "source": [
    "lista[::-2]"
   ]
  },
  {
   "cell_type": "code",
   "execution_count": 84,
   "metadata": {
    "colab": {
     "base_uri": "https://localhost:8080/"
    },
    "executionInfo": {
     "elapsed": 363,
     "status": "ok",
     "timestamp": 1722599695439,
     "user": {
      "displayName": "Patryk Gajowniczek",
      "userId": "12126099367175803778"
     },
     "user_tz": -120
    },
    "id": "47jO_gR48BvJ",
    "outputId": "54d234cf-dcd0-425a-fdc1-1fbd2f59beef"
   },
   "outputs": [
    {
     "data": {
      "text/plain": [
       "['c', 'e']"
      ]
     },
     "execution_count": 84,
     "metadata": {},
     "output_type": "execute_result"
    }
   ],
   "source": [
    "lista[2:5:2]"
   ]
  },
  {
   "cell_type": "markdown",
   "metadata": {
    "id": "trD84Kvn9HOx"
   },
   "source": [
    "# Methods - Edit List"
   ]
  },
  {
   "cell_type": "code",
   "execution_count": 85,
   "metadata": {
    "colab": {
     "base_uri": "https://localhost:8080/"
    },
    "executionInfo": {
     "elapsed": 352,
     "status": "ok",
     "timestamp": 1722599970216,
     "user": {
      "displayName": "Patryk Gajowniczek",
      "userId": "12126099367175803778"
     },
     "user_tz": -120
    },
    "id": "9qxwfFYG8WFE",
    "outputId": "c584731e-bd3c-48d1-f2d3-e0a7cb077e9f"
   },
   "outputs": [
    {
     "name": "stdout",
     "output_type": "stream",
     "text": [
      "['a', 'b', 'c', 'd']\n"
     ]
    }
   ],
   "source": [
    "l = [\"a\", \"b\", \"c\"]\n",
    "l.append(\"d\")\n",
    "print(l)"
   ]
  },
  {
   "cell_type": "code",
   "execution_count": 86,
   "metadata": {
    "colab": {
     "base_uri": "https://localhost:8080/"
    },
    "executionInfo": {
     "elapsed": 2,
     "status": "ok",
     "timestamp": 1722599992606,
     "user": {
      "displayName": "Patryk Gajowniczek",
      "userId": "12126099367175803778"
     },
     "user_tz": -120
    },
    "id": "UGEfU-Nv9Yyn",
    "outputId": "53c1ca74-dc19-4d36-a07a-2688b05e80ea"
   },
   "outputs": [
    {
     "name": "stdout",
     "output_type": "stream",
     "text": [
      "['a', 'b', 'c', 'd', 'e']\n"
     ]
    }
   ],
   "source": [
    "l = [\"a\", \"b\", \"c\"]\n",
    "l.extend([\"d\", \"e\"])\n",
    "print(l)"
   ]
  },
  {
   "cell_type": "code",
   "execution_count": 87,
   "metadata": {
    "colab": {
     "base_uri": "https://localhost:8080/"
    },
    "executionInfo": {
     "elapsed": 353,
     "status": "ok",
     "timestamp": 1722600112730,
     "user": {
      "displayName": "Patryk Gajowniczek",
      "userId": "12126099367175803778"
     },
     "user_tz": -120
    },
    "id": "NkakHhM-9nHi",
    "outputId": "df863d00-b867-4b12-e95f-720a0ba81dcd"
   },
   "outputs": [
    {
     "name": "stdout",
     "output_type": "stream",
     "text": [
      "['a', 'x', 'b', 'c']\n"
     ]
    }
   ],
   "source": [
    "l = [\"a\", \"b\", \"c\"]\n",
    "l.insert(1, \"x\")\n",
    "print(l)"
   ]
  },
  {
   "cell_type": "code",
   "execution_count": 88,
   "metadata": {
    "colab": {
     "base_uri": "https://localhost:8080/"
    },
    "executionInfo": {
     "elapsed": 348,
     "status": "ok",
     "timestamp": 1722600222603,
     "user": {
      "displayName": "Patryk Gajowniczek",
      "userId": "12126099367175803778"
     },
     "user_tz": -120
    },
    "id": "7RPvOSck9rUT",
    "outputId": "b2598c3a-ece3-4514-dca9-01cde4d59c93"
   },
   "outputs": [
    {
     "name": "stdout",
     "output_type": "stream",
     "text": [
      "b ['a', 'c']\n"
     ]
    }
   ],
   "source": [
    "l = [\"a\", \"b\", \"c\"]\n",
    "e = l.pop(1)\n",
    "print(e, l)"
   ]
  },
  {
   "cell_type": "code",
   "execution_count": 89,
   "metadata": {
    "colab": {
     "base_uri": "https://localhost:8080/"
    },
    "executionInfo": {
     "elapsed": 331,
     "status": "ok",
     "timestamp": 1722600301334,
     "user": {
      "displayName": "Patryk Gajowniczek",
      "userId": "12126099367175803778"
     },
     "user_tz": -120
    },
    "id": "CSpymAUI-Es2",
    "outputId": "1ca77105-1902-4ea5-fc76-6b2c329779be"
   },
   "outputs": [
    {
     "name": "stdout",
     "output_type": "stream",
     "text": [
      "['a', 'c', 'a', 'b', 'c']\n"
     ]
    }
   ],
   "source": [
    "l = [\"a\", \"b\", \"c\", \"a\", \"b\", \"c\"]\n",
    "l.remove(\"b\")\n",
    "print(l)"
   ]
  },
  {
   "cell_type": "code",
   "execution_count": 90,
   "metadata": {
    "colab": {
     "base_uri": "https://localhost:8080/"
    },
    "executionInfo": {
     "elapsed": 360,
     "status": "ok",
     "timestamp": 1722600344281,
     "user": {
      "displayName": "Patryk Gajowniczek",
      "userId": "12126099367175803778"
     },
     "user_tz": -120
    },
    "id": "W8eaWoIH-dR3",
    "outputId": "92bf8591-21d1-42c5-811e-a9ae10192e48"
   },
   "outputs": [
    {
     "name": "stdout",
     "output_type": "stream",
     "text": [
      "['a', 'c', 'a', 'b', 'c']\n"
     ]
    }
   ],
   "source": [
    "l = [\"a\", \"b\", \"c\", \"a\", \"b\", \"c\"]\n",
    "del l[1]\n",
    "print(l)"
   ]
  },
  {
   "cell_type": "code",
   "execution_count": 91,
   "metadata": {
    "colab": {
     "base_uri": "https://localhost:8080/"
    },
    "executionInfo": {
     "elapsed": 357,
     "status": "ok",
     "timestamp": 1722600412573,
     "user": {
      "displayName": "Patryk Gajowniczek",
      "userId": "12126099367175803778"
     },
     "user_tz": -120
    },
    "id": "RB7KNk27-0ev",
    "outputId": "3ed2323b-1f55-4b7b-a76e-1e9f977ddaf0"
   },
   "outputs": [
    {
     "name": "stdout",
     "output_type": "stream",
     "text": [
      "['a', 'b', 'c']\n"
     ]
    }
   ],
   "source": [
    "l = [\"a\", \"b\", \"c\", \"a\", \"b\", \"c\"]\n",
    "del l[0:3]\n",
    "print(l)"
   ]
  },
  {
   "cell_type": "code",
   "execution_count": 92,
   "metadata": {
    "colab": {
     "base_uri": "https://localhost:8080/"
    },
    "executionInfo": {
     "elapsed": 464,
     "status": "ok",
     "timestamp": 1722600459937,
     "user": {
      "displayName": "Patryk Gajowniczek",
      "userId": "12126099367175803778"
     },
     "user_tz": -120
    },
    "id": "e_sn_mGw_DVs",
    "outputId": "2976912c-eee5-4218-d801-7a097ec0bad4"
   },
   "outputs": [
    {
     "name": "stdout",
     "output_type": "stream",
     "text": [
      "[]\n"
     ]
    }
   ],
   "source": [
    "l = [\"a\", \"b\", \"c\"]\n",
    "l.clear()\n",
    "print(l)"
   ]
  },
  {
   "cell_type": "code",
   "execution_count": 93,
   "metadata": {
    "colab": {
     "base_uri": "https://localhost:8080/"
    },
    "executionInfo": {
     "elapsed": 366,
     "status": "ok",
     "timestamp": 1722600594743,
     "user": {
      "displayName": "Patryk Gajowniczek",
      "userId": "12126099367175803778"
     },
     "user_tz": -120
    },
    "id": "5qagGByO_Oew",
    "outputId": "63758405-a766-4686-b84f-7ca9d49ec2c5"
   },
   "outputs": [
    {
     "name": "stdout",
     "output_type": "stream",
     "text": [
      "1\n"
     ]
    }
   ],
   "source": [
    "l = [\"a\", \"b\", \"c\"]\n",
    "print(l.index(\"b\"))"
   ]
  },
  {
   "cell_type": "code",
   "execution_count": 94,
   "metadata": {
    "colab": {
     "base_uri": "https://localhost:8080/"
    },
    "executionInfo": {
     "elapsed": 353,
     "status": "ok",
     "timestamp": 1722600619375,
     "user": {
      "displayName": "Patryk Gajowniczek",
      "userId": "12126099367175803778"
     },
     "user_tz": -120
    },
    "id": "MC2Dtf4T_xop",
    "outputId": "5b4f74be-cbd9-43f7-b749-cd339e282257"
   },
   "outputs": [
    {
     "name": "stdout",
     "output_type": "stream",
     "text": [
      "2\n"
     ]
    }
   ],
   "source": [
    "l = [\"a\", \"b\", \"c\", \"b\"]\n",
    "print(l.count(\"b\"))"
   ]
  },
  {
   "cell_type": "code",
   "execution_count": 95,
   "metadata": {
    "colab": {
     "base_uri": "https://localhost:8080/"
    },
    "executionInfo": {
     "elapsed": 354,
     "status": "ok",
     "timestamp": 1722600667169,
     "user": {
      "displayName": "Patryk Gajowniczek",
      "userId": "12126099367175803778"
     },
     "user_tz": -120
    },
    "id": "PPv55WTQ_7Sl",
    "outputId": "a76b3d27-05da-436d-f15c-68a34f76c8f9"
   },
   "outputs": [
    {
     "name": "stdout",
     "output_type": "stream",
     "text": [
      "[1, 2, 3, 4, 5]\n",
      "[5, 4, 3, 2, 1]\n"
     ]
    }
   ],
   "source": [
    "l = [2,4,1,5,3]\n",
    "l.sort()\n",
    "print(l)\n",
    "l.sort(reverse=True)\n",
    "print(l)"
   ]
  },
  {
   "cell_type": "code",
   "execution_count": 96,
   "metadata": {
    "colab": {
     "base_uri": "https://localhost:8080/"
    },
    "executionInfo": {
     "elapsed": 345,
     "status": "ok",
     "timestamp": 1722600685089,
     "user": {
      "displayName": "Patryk Gajowniczek",
      "userId": "12126099367175803778"
     },
     "user_tz": -120
    },
    "id": "Ur03M3K-__C0",
    "outputId": "d6a1ab30-6c09-4652-eade-4901f8ef050b"
   },
   "outputs": [
    {
     "name": "stdout",
     "output_type": "stream",
     "text": [
      "[3, 5, 1, 4, 2]\n"
     ]
    }
   ],
   "source": [
    "l = [2,4,1,5,3]\n",
    "l.reverse()\n",
    "print(l)"
   ]
  },
  {
   "cell_type": "markdown",
   "metadata": {
    "id": "2u97w2zEAPgo"
   },
   "source": [
    "# List operations"
   ]
  },
  {
   "cell_type": "code",
   "execution_count": 97,
   "metadata": {
    "colab": {
     "base_uri": "https://localhost:8080/"
    },
    "executionInfo": {
     "elapsed": 656,
     "status": "ok",
     "timestamp": 1722600764300,
     "user": {
      "displayName": "Patryk Gajowniczek",
      "userId": "12126099367175803778"
     },
     "user_tz": -120
    },
    "id": "rovixWIfAHqp",
    "outputId": "136afc7c-19a1-48d2-9f08-a2ba61997f88"
   },
   "outputs": [
    {
     "name": "stdout",
     "output_type": "stream",
     "text": [
      "[1, 2, 3, 4, 5, 6]\n"
     ]
    }
   ],
   "source": [
    "l = [1,2,3] + [4,5,6]\n",
    "print(l)"
   ]
  },
  {
   "cell_type": "code",
   "execution_count": 98,
   "metadata": {
    "colab": {
     "base_uri": "https://localhost:8080/"
    },
    "executionInfo": {
     "elapsed": 329,
     "status": "ok",
     "timestamp": 1722600781681,
     "user": {
      "displayName": "Patryk Gajowniczek",
      "userId": "12126099367175803778"
     },
     "user_tz": -120
    },
    "id": "-y0RRDAVAVi_",
    "outputId": "9e7aed9c-0979-4b36-b292-b402ca1897a4"
   },
   "outputs": [
    {
     "name": "stdout",
     "output_type": "stream",
     "text": [
      "[1, 2, 3, 1, 2, 3]\n"
     ]
    }
   ],
   "source": [
    "l = [1,2,3] * 2\n",
    "print(l)"
   ]
  },
  {
   "cell_type": "code",
   "execution_count": 99,
   "metadata": {
    "colab": {
     "base_uri": "https://localhost:8080/"
    },
    "executionInfo": {
     "elapsed": 533,
     "status": "ok",
     "timestamp": 1722600844436,
     "user": {
      "displayName": "Patryk Gajowniczek",
      "userId": "12126099367175803778"
     },
     "user_tz": -120
    },
    "id": "uYPugIF4AeRJ",
    "outputId": "2db96aaa-af8d-40e9-cfb6-144ee616bc96"
   },
   "outputs": [
    {
     "name": "stdout",
     "output_type": "stream",
     "text": [
      "True\n",
      "False\n"
     ]
    }
   ],
   "source": [
    "l = [1,2,3]\n",
    "print(2 in l)\n",
    "print(4 in l)"
   ]
  },
  {
   "cell_type": "markdown",
   "metadata": {},
   "source": [
    "# List comprehension"
   ]
  },
  {
   "cell_type": "code",
   "execution_count": 100,
   "metadata": {
    "colab": {
     "base_uri": "https://localhost:8080/"
    },
    "executionInfo": {
     "elapsed": 666,
     "status": "ok",
     "timestamp": 1722600989014,
     "user": {
      "displayName": "Patryk Gajowniczek",
      "userId": "12126099367175803778"
     },
     "user_tz": -120
    },
    "id": "C-NZrwAKAiiZ",
    "outputId": "332a7ec7-e7d6-4643-c35c-7cadc5ca6ca2"
   },
   "outputs": [
    {
     "name": "stdout",
     "output_type": "stream",
     "text": [
      "[11, 12, 13]\n"
     ]
    }
   ],
   "source": [
    "l = [1,2,3]\n",
    "print([10 + x for x in l])"
   ]
  },
  {
   "cell_type": "code",
   "execution_count": 101,
   "metadata": {},
   "outputs": [
    {
     "name": "stdout",
     "output_type": "stream",
     "text": [
      "[12, 13]\n"
     ]
    }
   ],
   "source": [
    "l = [1,2,3]\n",
    "print([10 + x for x in l if x > 1])"
   ]
  },
  {
   "cell_type": "markdown",
   "metadata": {},
   "source": [
    "# Copying lists"
   ]
  },
  {
   "cell_type": "code",
   "execution_count": 102,
   "metadata": {
    "colab": {
     "base_uri": "https://localhost:8080/"
    },
    "executionInfo": {
     "elapsed": 466,
     "status": "ok",
     "timestamp": 1722601186815,
     "user": {
      "displayName": "Patryk Gajowniczek",
      "userId": "12126099367175803778"
     },
     "user_tz": -120
    },
    "id": "1rzpLFUbBOvc",
    "outputId": "7baf8180-df10-43c4-de2a-e6f3d609c90a"
   },
   "outputs": [
    {
     "name": "stdout",
     "output_type": "stream",
     "text": [
      "[1, 2, 3]\n",
      "[1, 2, 3, 4]\n"
     ]
    }
   ],
   "source": [
    "l1 = [1,2,3]\n",
    "l2 = l1.copy()\n",
    "l2.append(4)\n",
    "print(l1)\n",
    "print(l2)"
   ]
  },
  {
   "cell_type": "code",
   "execution_count": 103,
   "metadata": {
    "colab": {
     "base_uri": "https://localhost:8080/"
    },
    "executionInfo": {
     "elapsed": 398,
     "status": "ok",
     "timestamp": 1722601335418,
     "user": {
      "displayName": "Patryk Gajowniczek",
      "userId": "12126099367175803778"
     },
     "user_tz": -120
    },
    "id": "EPjcXI3QCkBt",
    "outputId": "3f51ca6b-633a-4a97-9a02-48be8ff52928"
   },
   "outputs": [
    {
     "name": "stdout",
     "output_type": "stream",
     "text": [
      "[1, 2, 3]\n",
      "[1, 2, 3, 4]\n"
     ]
    }
   ],
   "source": [
    "l1 = [1,2,3]\n",
    "l2 = l1[:]\n",
    "l2.append(4)\n",
    "print(l1)\n",
    "print(l2)"
   ]
  },
  {
   "cell_type": "code",
   "execution_count": 104,
   "metadata": {
    "colab": {
     "base_uri": "https://localhost:8080/"
    },
    "executionInfo": {
     "elapsed": 650,
     "status": "ok",
     "timestamp": 1722601285141,
     "user": {
      "displayName": "Patryk Gajowniczek",
      "userId": "12126099367175803778"
     },
     "user_tz": -120
    },
    "id": "VpR8ygfXCHG2",
    "outputId": "e008e9e3-c151-444d-9b23-8aae86d85690"
   },
   "outputs": [
    {
     "name": "stdout",
     "output_type": "stream",
     "text": [
      "[[10, 2], [3, 4]]\n",
      "[[10, 2], [3, 4]]\n"
     ]
    }
   ],
   "source": [
    "l1 = [[1, 2], [3,4]]\n",
    "l2 = l1.copy()\n",
    "l2[0][0] = 10\n",
    "print(l1)\n",
    "print(l2)"
   ]
  },
  {
   "cell_type": "code",
   "execution_count": 105,
   "metadata": {
    "colab": {
     "base_uri": "https://localhost:8080/"
    },
    "executionInfo": {
     "elapsed": 344,
     "status": "ok",
     "timestamp": 1722601389500,
     "user": {
      "displayName": "Patryk Gajowniczek",
      "userId": "12126099367175803778"
     },
     "user_tz": -120
    },
    "id": "s8FBRVvpCCJ7",
    "outputId": "a4b24408-07a5-4e4e-f25f-a667fdd8030d"
   },
   "outputs": [
    {
     "name": "stdout",
     "output_type": "stream",
     "text": [
      "[[1, 2], [3, 4]]\n",
      "[[10, 2], [3, 4]]\n"
     ]
    }
   ],
   "source": [
    "import copy\n",
    "\n",
    "l1 = [[1, 2], [3,4]]\n",
    "l2 = copy.deepcopy(l1)\n",
    "l2[0][0] = 10\n",
    "print(l1)\n",
    "print(l2)"
   ]
  },
  {
   "cell_type": "markdown",
   "metadata": {
    "id": "phnraSC-C8uM"
   },
   "source": [
    "# Metoda \"list()\""
   ]
  },
  {
   "cell_type": "code",
   "execution_count": 106,
   "metadata": {
    "colab": {
     "base_uri": "https://localhost:8080/"
    },
    "executionInfo": {
     "elapsed": 354,
     "status": "ok",
     "timestamp": 1722601454089,
     "user": {
      "displayName": "Patryk Gajowniczek",
      "userId": "12126099367175803778"
     },
     "user_tz": -120
    },
    "id": "xC_zYJ_TCwwE",
    "outputId": "3340b937-587e-42bc-d62a-bd8d2366a421"
   },
   "outputs": [
    {
     "name": "stdout",
     "output_type": "stream",
     "text": [
      "[]\n"
     ]
    }
   ],
   "source": [
    "my_empty_list = list()\n",
    "print(my_empty_list)"
   ]
  },
  {
   "cell_type": "code",
   "execution_count": 107,
   "metadata": {
    "colab": {
     "base_uri": "https://localhost:8080/"
    },
    "executionInfo": {
     "elapsed": 376,
     "status": "ok",
     "timestamp": 1722601503901,
     "user": {
      "displayName": "Patryk Gajowniczek",
      "userId": "12126099367175803778"
     },
     "user_tz": -120
    },
    "id": "-GOK_qtIDDcJ",
    "outputId": "455e44f4-891d-4c9c-941c-881a2584dae5"
   },
   "outputs": [
    {
     "name": "stdout",
     "output_type": "stream",
     "text": [
      "['a', 'b', 'c']\n"
     ]
    }
   ],
   "source": [
    "my_list = list(\"abc\")\n",
    "print(my_list)"
   ]
  },
  {
   "cell_type": "code",
   "execution_count": 108,
   "metadata": {
    "colab": {
     "base_uri": "https://localhost:8080/"
    },
    "executionInfo": {
     "elapsed": 348,
     "status": "ok",
     "timestamp": 1722601597994,
     "user": {
      "displayName": "Patryk Gajowniczek",
      "userId": "12126099367175803778"
     },
     "user_tz": -120
    },
    "id": "NaNNt7m4DPlD",
    "outputId": "809e5a32-0c1b-4c2d-9197-1b0661ff83db"
   },
   "outputs": [
    {
     "name": "stdout",
     "output_type": "stream",
     "text": [
      "['a', 'b', 'c']\n",
      "['a', 'b', 'c', 'd']\n"
     ]
    }
   ],
   "source": [
    "l1 = [\"a\", \"b\", \"c\"]\n",
    "l2 = list(l1)\n",
    "l2.append(\"d\")\n",
    "print(l1)\n",
    "print(l2)"
   ]
  },
  {
   "cell_type": "code",
   "execution_count": null,
   "metadata": {
    "id": "IkN5J9xaE8gt"
   },
   "outputs": [],
   "source": []
  }
 ],
 "metadata": {
  "colab": {
   "authorship_tag": "ABX9TyNrZi2CV3Td6zGVPEdi/nDV",
   "provenance": []
  },
  "kernelspec": {
   "display_name": "Python 3",
   "name": "python3"
  },
  "language_info": {
   "codemirror_mode": {
    "name": "ipython",
    "version": 3
   },
   "file_extension": ".py",
   "mimetype": "text/x-python",
   "name": "python",
   "nbconvert_exporter": "python",
   "pygments_lexer": "ipython3",
   "version": "3.12.4"
  }
 },
 "nbformat": 4,
 "nbformat_minor": 0
}
