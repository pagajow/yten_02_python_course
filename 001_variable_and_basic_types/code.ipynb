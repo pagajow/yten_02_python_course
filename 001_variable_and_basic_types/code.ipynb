{
 "cells": [
  {
   "cell_type": "markdown",
   "metadata": {
    "id": "E5qMFFMAIYPz"
   },
   "source": [
    "# variable"
   ]
  },
  {
   "cell_type": "markdown",
   "metadata": {},
   "source": [
    "Creating a text variable for the first time using the `=` operator"
   ]
  },
  {
   "cell_type": "code",
   "execution_count": null,
   "metadata": {
    "colab": {
     "base_uri": "https://localhost:8080/"
    },
    "executionInfo": {
     "elapsed": 349,
     "status": "ok",
     "timestamp": 1719331940796,
     "user": {
      "displayName": "Patryk Gajowniczek",
      "userId": "12126099367175803778"
     },
     "user_tz": -120
    },
    "id": "en-iCFrhI4Yl",
    "outputId": "b0dc36dc-56b6-4d2e-e02f-089cc5f834b4"
   },
   "outputs": [],
   "source": [
    "name = \"Bob\""
   ]
  },
  {
   "cell_type": "markdown",
   "metadata": {
    "id": "Ukl2VI7RUyDF"
   },
   "source": [
    "More variables of types: `int`, `float`, and `boolean`"
   ]
  },
  {
   "cell_type": "code",
   "execution_count": null,
   "metadata": {
    "id": "ixc0qKsqUzfa"
   },
   "outputs": [
    {
     "name": "stdout",
     "output_type": "stream",
     "text": [
      "Bob 22 1.82 True\n"
     ]
    }
   ],
   "source": [
    "age = 22\n",
    "height = 1.82\n",
    "is_married = True\n",
    "\n",
    "print(name, age, height, is_married)"
   ]
  },
  {
   "cell_type": "markdown",
   "metadata": {
    "id": "Oehi62vFK6-8"
   },
   "source": [
    "Editing variables, including changing the type of the stored value"
   ]
  },
  {
   "cell_type": "code",
   "execution_count": null,
   "metadata": {
    "colab": {
     "base_uri": "https://localhost:8080/"
    },
    "executionInfo": {
     "elapsed": 368,
     "status": "ok",
     "timestamp": 1719332488865,
     "user": {
      "displayName": "Patryk Gajowniczek",
      "userId": "12126099367175803778"
     },
     "user_tz": -120
    },
    "id": "aGrhd04wLCVm",
    "outputId": "63334d13-4fb7-40b0-8196-032de7bb9911"
   },
   "outputs": [
    {
     "name": "stdout",
     "output_type": "stream",
     "text": [
      "Bob 36 1.82 yes\n"
     ]
    }
   ],
   "source": [
    "age = 36\n",
    "is_married = \"yes\"\n",
    "\n",
    "print(name, age, height, is_married)"
   ]
  },
  {
   "cell_type": "markdown",
   "metadata": {},
   "source": [
    "Restrictions and rules for choosing variable names"
   ]
  },
  {
   "cell_type": "code",
   "execution_count": null,
   "metadata": {},
   "outputs": [
    {
     "name": "stdout",
     "output_type": "stream",
     "text": [
      "Alice Bob Charlie Dave Eve\n"
     ]
    }
   ],
   "source": [
    "name = \"Alice\"\n",
    "Name = \"Bob\"\n",
    "_name = \"Charlie\"\n",
    "name1 = \"Dave\"\n",
    "name1_ = \"Eve\"\n",
    "\n",
    "print(name, Name, _name, name1, name1_)"
   ]
  },
  {
   "cell_type": "markdown",
   "metadata": {},
   "source": [
    "The built-in `type` function returning the type of a variable"
   ]
  },
  {
   "cell_type": "code",
   "execution_count": null,
   "metadata": {
    "colab": {
     "base_uri": "https://localhost:8080/"
    },
    "executionInfo": {
     "elapsed": 352,
     "status": "ok",
     "timestamp": 1719332916127,
     "user": {
      "displayName": "Patryk Gajowniczek",
      "userId": "12126099367175803778"
     },
     "user_tz": -120
    },
    "id": "4JmQ8tzNGRY-",
    "outputId": "ad5a5532-0045-4fc0-a2f0-47c699daee62"
   },
   "outputs": [
    {
     "name": "stdout",
     "output_type": "stream",
     "text": [
      "<class 'str'>\n"
     ]
    }
   ],
   "source": [
    "print(type(name))"
   ]
  },
  {
   "cell_type": "markdown",
   "metadata": {
    "id": "jGxy62VNIjX7"
   },
   "source": [
    "# type int"
   ]
  },
  {
   "cell_type": "markdown",
   "metadata": {
    "id": "K0-VrbHJF33o"
   },
   "source": [
    "Declaring and assigning a variable of type `int`"
   ]
  },
  {
   "cell_type": "code",
   "execution_count": null,
   "metadata": {
    "colab": {
     "base_uri": "https://localhost:8080/"
    },
    "executionInfo": {
     "elapsed": 332,
     "status": "ok",
     "timestamp": 1721749213418,
     "user": {
      "displayName": "Patryk Gajowniczek",
      "userId": "12126099367175803778"
     },
     "user_tz": -120
    },
    "id": "IlfYnb--FwGh",
    "outputId": "29188c28-bc8e-4476-9b21-552093b6d0c3"
   },
   "outputs": [
    {
     "name": "stdout",
     "output_type": "stream",
     "text": [
      "10 <class 'int'>\n"
     ]
    }
   ],
   "source": [
    "number = 10\n",
    "\n",
    "print(number, type(number))"
   ]
  },
  {
   "cell_type": "markdown",
   "metadata": {
    "id": "Q-dfuSAuP2QI"
   },
   "source": [
    "Basic mathematical operations on `int` numbers: `*`, `+`, `-`, `/`"
   ]
  },
  {
   "cell_type": "code",
   "execution_count": null,
   "metadata": {
    "colab": {
     "base_uri": "https://localhost:8080/"
    },
    "executionInfo": {
     "elapsed": 422,
     "status": "ok",
     "timestamp": 1721749215376,
     "user": {
      "displayName": "Patryk Gajowniczek",
      "userId": "12126099367175803778"
     },
     "user_tz": -120
    },
    "id": "hB5cH2PgQhUY",
    "outputId": "03c6b0aa-537c-4be0-b166-495837c41ac0"
   },
   "outputs": [
    {
     "name": "stdout",
     "output_type": "stream",
     "text": [
      "4\n",
      "1\n",
      "6\n",
      "2.0\n"
     ]
    }
   ],
   "source": [
    "print(2 + 2)\n",
    "print(4 - 3)\n",
    "print(2 * 3)\n",
    "print(4 / 2)"
   ]
  },
  {
   "cell_type": "markdown",
   "metadata": {
    "id": "qJGPsBzgV7AK"
   },
   "source": [
    "Integer division operation `//`"
   ]
  },
  {
   "cell_type": "code",
   "execution_count": null,
   "metadata": {
    "colab": {
     "base_uri": "https://localhost:8080/"
    },
    "executionInfo": {
     "elapsed": 345,
     "status": "ok",
     "timestamp": 1721749225791,
     "user": {
      "displayName": "Patryk Gajowniczek",
      "userId": "12126099367175803778"
     },
     "user_tz": -120
    },
    "id": "2EakBWp3WV8n",
    "outputId": "bb7fcb25-65c3-4a5c-809c-371502cedf43"
   },
   "outputs": [
    {
     "name": "stdout",
     "output_type": "stream",
     "text": [
      "2\n"
     ]
    }
   ],
   "source": [
    "print(4 // 2)"
   ]
  },
  {
   "cell_type": "markdown",
   "metadata": {
    "id": "s9ERD2L3Ims7"
   },
   "source": [
    "# type float"
   ]
  },
  {
   "cell_type": "markdown",
   "metadata": {
    "id": "HJwK16yJF291"
   },
   "source": [
    "Declaring and assigning a variable of type `flaot`"
   ]
  },
  {
   "cell_type": "code",
   "execution_count": null,
   "metadata": {
    "colab": {
     "base_uri": "https://localhost:8080/"
    },
    "executionInfo": {
     "elapsed": 877,
     "status": "ok",
     "timestamp": 1719334511075,
     "user": {
      "displayName": "Patryk Gajowniczek",
      "userId": "12126099367175803778"
     },
     "user_tz": -120
    },
    "id": "-UH7gs4hF169",
    "outputId": "586d76a2-ab97-4804-8024-5798b6d49837"
   },
   "outputs": [
    {
     "name": "stdout",
     "output_type": "stream",
     "text": [
      "10.0 <class 'float'>\n",
      "10.2 <class 'float'>\n"
     ]
    }
   ],
   "source": [
    "number1 = 10.\n",
    "number2 = 10.2\n",
    "\n",
    "print(number1, type(number1))\n",
    "print(number2, type(number2))"
   ]
  },
  {
   "cell_type": "markdown",
   "metadata": {
    "id": "IXCsoYzaU5w1"
   },
   "source": [
    "Basic mathematical operations on `float` numbers: `*`, `+`, `-`, `/`"
   ]
  },
  {
   "cell_type": "code",
   "execution_count": null,
   "metadata": {
    "colab": {
     "base_uri": "https://localhost:8080/"
    },
    "executionInfo": {
     "elapsed": 336,
     "status": "ok",
     "timestamp": 1719334613931,
     "user": {
      "displayName": "Patryk Gajowniczek",
      "userId": "12126099367175803778"
     },
     "user_tz": -120
    },
    "id": "BWKRTVFJU43Z",
    "outputId": "511a3533-0798-4c1e-d10f-8acdf112135f"
   },
   "outputs": [
    {
     "name": "stdout",
     "output_type": "stream",
     "text": [
      "4.0\n",
      "1.0\n",
      "6.0\n",
      "2.0\n"
     ]
    }
   ],
   "source": [
    "print(2.0 + 2.0)\n",
    "print(4.0 - 3.0)\n",
    "print(2.0 * 3.0)\n",
    "print(4.0 / 2.0)"
   ]
  },
  {
   "cell_type": "markdown",
   "metadata": {
    "id": "b-zwaWR1IouI"
   },
   "source": [
    "# type bool"
   ]
  },
  {
   "cell_type": "markdown",
   "metadata": {
    "id": "sg7qykmGBstN"
   },
   "source": [
    "Declaring and assigning a variable of type `bool`"
   ]
  },
  {
   "cell_type": "code",
   "execution_count": null,
   "metadata": {
    "colab": {
     "base_uri": "https://localhost:8080/"
    },
    "executionInfo": {
     "elapsed": 352,
     "status": "ok",
     "timestamp": 1721746838364,
     "user": {
      "displayName": "Patryk Gajowniczek",
      "userId": "12126099367175803778"
     },
     "user_tz": -120
    },
    "id": "qtBKdPFqUw6G",
    "outputId": "32d92f3c-6845-4ad7-8244-64de053bdf12"
   },
   "outputs": [
    {
     "name": "stdout",
     "output_type": "stream",
     "text": [
      "True <class 'bool'>\n",
      "False <class 'bool'>\n"
     ]
    }
   ],
   "source": [
    "variable1 = True\n",
    "variable2 = False\n",
    "\n",
    "print(variable1, type(variable1))\n",
    "print(variable2, type(variable2))"
   ]
  },
  {
   "cell_type": "markdown",
   "metadata": {
    "id": "7CTiC-HSEfUm"
   },
   "source": [
    "Basic logical operations on `bool` variables"
   ]
  },
  {
   "cell_type": "code",
   "execution_count": null,
   "metadata": {
    "colab": {
     "base_uri": "https://localhost:8080/"
    },
    "executionInfo": {
     "elapsed": 376,
     "status": "ok",
     "timestamp": 1721746887640,
     "user": {
      "displayName": "Patryk Gajowniczek",
      "userId": "12126099367175803778"
     },
     "user_tz": -120
    },
    "id": "TRjKBpkuGnyx",
    "outputId": "dcc1f768-7925-4de9-f462-546858e0955b"
   },
   "outputs": [
    {
     "name": "stdout",
     "output_type": "stream",
     "text": [
      "False\n",
      "True\n",
      "False\n"
     ]
    }
   ],
   "source": [
    "print(variable1 and variable2)\n",
    "print(variable1 or variable2)\n",
    "print(not variable1)"
   ]
  },
  {
   "cell_type": "markdown",
   "metadata": {
    "id": "KqjQWIReF2J3"
   },
   "source": [
    "# type str"
   ]
  },
  {
   "cell_type": "markdown",
   "metadata": {
    "id": "QAcmWcAGRWHD"
   },
   "source": [
    "Declaring and assigning a variable of type `str`"
   ]
  },
  {
   "cell_type": "code",
   "execution_count": null,
   "metadata": {
    "colab": {
     "base_uri": "https://localhost:8080/"
    },
    "executionInfo": {
     "elapsed": 338,
     "status": "ok",
     "timestamp": 1721752036547,
     "user": {
      "displayName": "Patryk Gajowniczek",
      "userId": "12126099367175803778"
     },
     "user_tz": -120
    },
    "id": "9et2xmnhF0n9",
    "outputId": "2f202fe6-82a3-44be-8393-45175297a225"
   },
   "outputs": [
    {
     "name": "stdout",
     "output_type": "stream",
     "text": [
      "python 3.13 <class 'str'>\n"
     ]
    }
   ],
   "source": [
    "text = \"python 3.13\"\n",
    "\n",
    "print(text, type(text))"
   ]
  },
  {
   "cell_type": "markdown",
   "metadata": {
    "id": "ZSxXjgV-NGMp"
   },
   "source": [
    "The role of so-called \"special characters\": `\\n`, `\\t`, `\\`"
   ]
  },
  {
   "cell_type": "code",
   "execution_count": null,
   "metadata": {
    "colab": {
     "base_uri": "https://localhost:8080/"
    },
    "executionInfo": {
     "elapsed": 398,
     "status": "ok",
     "timestamp": 1721765513110,
     "user": {
      "displayName": "Patryk Gajowniczek",
      "userId": "12126099367175803778"
     },
     "user_tz": -120
    },
    "id": "gT9JPuUwNGxy",
    "outputId": "71b68d26-dcd7-4bf5-9d62-4e0e529f4193"
   },
   "outputs": [
    {
     "name": "stdout",
     "output_type": "stream",
     "text": [
      "Hello \n",
      " world\n",
      "Hello \t world\n"
     ]
    }
   ],
   "source": [
    "print(\"Hello \\n world\")\n",
    "print(\"Hello \\t world\")"
   ]
  },
  {
   "cell_type": "markdown",
   "metadata": {
    "id": "rkMBRU42RooW"
   },
   "source": [
    "Different ways to create strings: `(')`, `(\")`, `(''')`, `(\"\"\")`"
   ]
  },
  {
   "cell_type": "code",
   "execution_count": null,
   "metadata": {
    "colab": {
     "base_uri": "https://localhost:8080/"
    },
    "executionInfo": {
     "elapsed": 364,
     "status": "ok",
     "timestamp": 1721750220860,
     "user": {
      "displayName": "Patryk Gajowniczek",
      "userId": "12126099367175803778"
     },
     "user_tz": -120
    },
    "id": "oyGX6tB1TswT",
    "outputId": "dc294b0c-5acf-44bb-94b1-169aaf3606f6"
   },
   "outputs": [
    {
     "name": "stdout",
     "output_type": "stream",
     "text": [
      "text1 text2 text3 text4\n"
     ]
    }
   ],
   "source": [
    "print('text1', \"text2\", '''text3''', \"\"\"text4\"\"\")"
   ]
  },
  {
   "cell_type": "markdown",
   "metadata": {
    "id": "0CLrHRxgUkz9"
   },
   "source": [
    "Creating a string with a line break"
   ]
  },
  {
   "cell_type": "code",
   "execution_count": null,
   "metadata": {
    "colab": {
     "base_uri": "https://localhost:8080/"
    },
    "executionInfo": {
     "elapsed": 334,
     "status": "ok",
     "timestamp": 1721750695789,
     "user": {
      "displayName": "Patryk Gajowniczek",
      "userId": "12126099367175803778"
     },
     "user_tz": -120
    },
    "id": "ViGf-62yVaND",
    "outputId": "b89fe563-4201-4912-d957-276081349fb8"
   },
   "outputs": [
    {
     "name": "stdout",
     "output_type": "stream",
     "text": [
      "This is text \n",
      "consisting of \n",
      "multiple lines.\n",
      "Like this \n",
      "one here.\n"
     ]
    }
   ],
   "source": [
    "print('''This is text \n",
    "consisting of \n",
    "multiple lines.''')\n",
    "\n",
    "print(\"\"\"Like this \n",
    "one here.\"\"\")"
   ]
  },
  {
   "cell_type": "markdown",
   "metadata": {
    "id": "yog4UKx_W9Ka"
   },
   "source": [
    "Concatenating strings using the `+` operator"
   ]
  },
  {
   "cell_type": "code",
   "execution_count": null,
   "metadata": {
    "colab": {
     "base_uri": "https://localhost:8080/"
    },
    "executionInfo": {
     "elapsed": 350,
     "status": "ok",
     "timestamp": 1721751100651,
     "user": {
      "displayName": "Patryk Gajowniczek",
      "userId": "12126099367175803778"
     },
     "user_tz": -120
    },
    "id": "nfUXCWapXHj5",
    "outputId": "adc2aae7-830c-410f-a954-2966d2e96e4a"
   },
   "outputs": [
    {
     "name": "stdout",
     "output_type": "stream",
     "text": [
      "Hello world\n"
     ]
    }
   ],
   "source": [
    "print(\"Hello \" + \"world\")"
   ]
  },
  {
   "cell_type": "markdown",
   "metadata": {
    "id": "HMAGebChXOZD"
   },
   "source": [
    "Repeating strings using the `*` operator"
   ]
  },
  {
   "cell_type": "code",
   "execution_count": null,
   "metadata": {
    "colab": {
     "base_uri": "https://localhost:8080/"
    },
    "executionInfo": {
     "elapsed": 3,
     "status": "ok",
     "timestamp": 1721751181230,
     "user": {
      "displayName": "Patryk Gajowniczek",
      "userId": "12126099367175803778"
     },
     "user_tz": -120
    },
    "id": "5FYOjAe8XejN",
    "outputId": "2a036612-c018-44fb-e73a-a034f357588a"
   },
   "outputs": [
    {
     "name": "stdout",
     "output_type": "stream",
     "text": [
      "Hello Hello Hello \n"
     ]
    }
   ],
   "source": [
    "print(\"Hello \" * 3)"
   ]
  },
  {
   "cell_type": "markdown",
   "metadata": {
    "id": "k8DUNzo8XmgX"
   },
   "source": [
    "Accessing string characters using square brackets `[]`"
   ]
  },
  {
   "cell_type": "code",
   "execution_count": 5,
   "metadata": {
    "colab": {
     "base_uri": "https://localhost:8080/"
    },
    "executionInfo": {
     "elapsed": 349,
     "status": "ok",
     "timestamp": 1721752079154,
     "user": {
      "displayName": "Patryk Gajowniczek",
      "userId": "12126099367175803778"
     },
     "user_tz": -120
    },
    "id": "g_LQ-sZfX98a",
    "outputId": "9dbf2ee3-a7fa-436d-eed0-0b03cf2942c8"
   },
   "outputs": [
    {
     "name": "stdout",
     "output_type": "stream",
     "text": [
      "P\n",
      "ytho\n",
      "ytho\n",
      "n\n"
     ]
    }
   ],
   "source": [
    "text = \"Python\"\n",
    "print(text[0])\n",
    "print(text[1:5])\n",
    "print(text[-5:-1])\n",
    "print(text[-1])"
   ]
  },
  {
   "cell_type": "markdown",
   "metadata": {
    "id": "c4_qBRLIb2Ba"
   },
   "source": [
    "Length of a string using the `len()` function"
   ]
  },
  {
   "cell_type": "code",
   "execution_count": null,
   "metadata": {
    "colab": {
     "base_uri": "https://localhost:8080/"
    },
    "executionInfo": {
     "elapsed": 367,
     "status": "ok",
     "timestamp": 1721752387847,
     "user": {
      "displayName": "Patryk Gajowniczek",
      "userId": "12126099367175803778"
     },
     "user_tz": -120
    },
    "id": "rxnT3_kgcFWM",
    "outputId": "3993ce1f-d66d-41bd-cea5-69e77bdb346c"
   },
   "outputs": [
    {
     "name": "stdout",
     "output_type": "stream",
     "text": [
      "6\n"
     ]
    }
   ],
   "source": [
    "print(len(text))"
   ]
  },
  {
   "cell_type": "markdown",
   "metadata": {
    "id": "zSJL2r3FYcO9"
   },
   "source": [
    "Checking for substrings in strings using the operator `in`:"
   ]
  },
  {
   "cell_type": "code",
   "execution_count": null,
   "metadata": {
    "colab": {
     "base_uri": "https://localhost:8080/"
    },
    "executionInfo": {
     "elapsed": 351,
     "status": "ok",
     "timestamp": 1721752558280,
     "user": {
      "displayName": "Patryk Gajowniczek",
      "userId": "12126099367175803778"
     },
     "user_tz": -120
    },
    "id": "xICsFwrhbPOo",
    "outputId": "bc3c96e5-0f26-4cf3-fb44-86f0a599ba6e"
   },
   "outputs": [
    {
     "name": "stdout",
     "output_type": "stream",
     "text": [
      "True\n"
     ]
    }
   ],
   "source": [
    "print(\"Pyt\" in text)"
   ]
  },
  {
   "cell_type": "markdown",
   "metadata": {
    "id": "VHn1_uaBdH4W"
   },
   "source": [
    "Some useful string functions:  \n",
    "- `upper()`: Returns the string converted to uppercase letters.  \n",
    "- `lower()`: Returns the string converted to lowercase letters.  \n",
    "- `strip()`: Removes whitespace from the beginning and end of the string.  \n",
    "- `replace(old, new)`: Replaces all occurrences of `old` with `new` in the string.  \n",
    "- `split(separator)`: Splits the string into a list of elements using `separator` as the delimiter.\n",
    "- `join(iterable)`: Combines elements of an iterable (like a list) into a single string, using the string it’s called on as a separator.\n",
    "- `find(substring)`: Returns the index of the first occurrence of the substring in the string. If not found, it returns -1."
   ]
  },
  {
   "cell_type": "code",
   "execution_count": 1,
   "metadata": {
    "colab": {
     "base_uri": "https://localhost:8080/"
    },
    "executionInfo": {
     "elapsed": 469,
     "status": "ok",
     "timestamp": 1721753027683,
     "user": {
      "displayName": "Patryk Gajowniczek",
      "userId": "12126099367175803778"
     },
     "user_tz": -120
    },
    "id": "uu5uQasTeXUh",
    "outputId": "9f82fc08-8138-434b-a3b9-471b07e8569f"
   },
   "outputs": [
    {
     "name": "stdout",
     "output_type": "stream",
     "text": [
      " PYTHON, IS GREAT! \n",
      " python, is great! \n",
      "Python, is great!\n",
      " Programming, is great! \n",
      "[' Python', ' is great! ']\n",
      "Python is great!\n",
      "9\n"
     ]
    }
   ],
   "source": [
    "text = \" Python, is great! \"\n",
    "print(text.upper())\n",
    "print(text.lower())\n",
    "print(text.strip())\n",
    "print(text.replace(\"Python\", \"Programming\"))\n",
    "print(text.split(\",\"))\n",
    "print(\" \".join([\"Python\", \"is great!\"]))\n",
    "print(text.find(\"is\"))"
   ]
  }
 ],
 "metadata": {
  "colab": {
   "authorship_tag": "ABX9TyN7tPHRp44XCsfeIZEpup34",
   "provenance": []
  },
  "kernelspec": {
   "display_name": "Python 3",
   "name": "python3"
  },
  "language_info": {
   "codemirror_mode": {
    "name": "ipython",
    "version": 3
   },
   "file_extension": ".py",
   "mimetype": "text/x-python",
   "name": "python",
   "nbconvert_exporter": "python",
   "pygments_lexer": "ipython3",
   "version": "3.12.4"
  }
 },
 "nbformat": 4,
 "nbformat_minor": 0
}
